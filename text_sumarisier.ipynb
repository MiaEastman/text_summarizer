{
  "nbformat": 4,
  "nbformat_minor": 0,
  "metadata": {
    "colab": {
      "name": "text_sumarisier.ipynb",
      "provenance": [],
      "include_colab_link": true
    },
    "kernelspec": {
      "name": "python3",
      "display_name": "Python 3"
    },
    "language_info": {
      "name": "python"
    }
  },
  "cells": [
    {
      "cell_type": "markdown",
      "metadata": {
        "id": "view-in-github",
        "colab_type": "text"
      },
      "source": [
        "<a href=\"https://colab.research.google.com/github/MiaEastman/text_summarizer/blob/main/text_sumarisier.ipynb\" target=\"_parent\"><img src=\"https://colab.research.google.com/assets/colab-badge.svg\" alt=\"Open In Colab\"/></a>"
      ]
    },
    {
      "cell_type": "markdown",
      "source": [
        "# Text Summarisation\n",
        "\n",
        "Recall an earlier notebook where you were given a task to summarise online content and produce a report. We converted an audio file to text. Similarly, we could write a notebook to convert a PDF or Word document to text or Web pages to text. The strategy is to convert everything to text, summarise the text, and use the summary in the final report.\n",
        "\n",
        "# The Challenge\n",
        "\n",
        "Create a project to summarise text and publish the project in Binder. \n",
        "\n",
        "You can choose how to input the text.  Some ideas include pasting it into a string, reading from a file, extract from a PDF or a webpage. \n",
        " \n",
        "It is okay to follow a online tutoirial or youtube video but make sure you have some understanding of what you are doing. You can ask you tutor for help if needed.  They will either help search, or perhaps explain the code in a tutorial.\n",
        "\n",
        "\n",
        "# Task 0 - Initialise a NEW repository\n",
        "\n",
        "We are going to deploy this notebook using Binder.\n",
        "\n",
        "* Initialise a new PUBLIC GitHub repository, say called, text_summariser.\n",
        "* Import this notebook into the new repository\n",
        "\n"
      ],
      "metadata": {
        "id": "SmVEXRTA1wZn"
      }
    },
    {
      "cell_type": "code",
      "source": [
        "!pip install PyPDF2"
      ],
      "metadata": {
        "id": "48RNuGBQIHQ0",
        "outputId": "b81e94ef-53f6-4cbd-f376-3a37de1d4613",
        "colab": {
          "base_uri": "https://localhost:8080/"
        }
      },
      "execution_count": 1,
      "outputs": [
        {
          "output_type": "stream",
          "name": "stdout",
          "text": [
            "Collecting PyPDF2\n",
            "  Downloading PyPDF2-1.27.5-py3-none-any.whl (64 kB)\n",
            "\u001b[?25l\r\u001b[K     |█████                           | 10 kB 15.2 MB/s eta 0:00:01\r\u001b[K     |██████████                      | 20 kB 22.8 MB/s eta 0:00:01\r\u001b[K     |███████████████▏                | 30 kB 29.1 MB/s eta 0:00:01\r\u001b[K     |████████████████████▏           | 40 kB 22.3 MB/s eta 0:00:01\r\u001b[K     |█████████████████████████▎      | 51 kB 15.3 MB/s eta 0:00:01\r\u001b[K     |██████████████████████████████▎ | 61 kB 17.2 MB/s eta 0:00:01\r\u001b[K     |████████████████████████████████| 64 kB 3.3 MB/s \n",
            "\u001b[?25hInstalling collected packages: PyPDF2\n",
            "Successfully installed PyPDF2-1.27.5\n"
          ]
        }
      ]
    },
    {
      "cell_type": "code",
      "source": [
        "# importing required modules\n",
        "import PyPDF2\n",
        "\t\n",
        "# creating a pdf file object\n",
        "pdfFileObj = open('/content/2. CCM6_India Dance of Shiva.pdf.pdf', 'rb')\n",
        "\t\n",
        "# creating a pdf reader object\n",
        "pdfReader = PyPDF2.PdfFileReader(pdfFileObj)\n",
        "\t\n",
        "# printing number of pages in pdf file\n",
        "print(pdfReader.numPages)\n",
        "\t\n",
        "# creating a page object\n",
        "pageObj = pdfReader.getPage(0)\n",
        "\t\n",
        "# extracting text from page\n",
        "print(pageObj.extractText())\n",
        "\t\n",
        "# closing the pdf file object\n",
        "pdfFileObj.close()\n"
      ],
      "metadata": {
        "id": "9iV3ENaQn8r2",
        "outputId": "49bbe0a8-72fe-4dbc-d544-2c4858ce56b2",
        "colab": {
          "base_uri": "https://localhost:8080/"
        }
      },
      "execution_count": 10,
      "outputs": [
        {
          "output_type": "stream",
          "name": "stdout",
          "text": [
            "12\n",
            "\n"
          ]
        }
      ]
    },
    {
      "cell_type": "code",
      "source": [
        "with open('/content/2. CCM6_India Dance of Shiva.pdf.pdf', \"rb\") as pdf_file:\n",
        "    read_pdf = PyPDF2.PdfFileReader(pdf_file)\n",
        "    number_of_pages = read_pdf.getNumPages()\n",
        "    page = read_pdf.pages[0]\n",
        "    page_content = page.extractText()\n",
        "print(page_content)"
      ],
      "metadata": {
        "id": "Xu5bkOmjuZvW",
        "outputId": "86bb529c-942c-4bb4-f26f-acc3e48aaa9e",
        "colab": {
          "base_uri": "https://localhost:8080/"
        }
      },
      "execution_count": 11,
      "outputs": [
        {
          "output_type": "stream",
          "name": "stdout",
          "text": [
            "\n"
          ]
        }
      ]
    }
  ]
}